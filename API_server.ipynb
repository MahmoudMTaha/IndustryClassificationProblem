{
 "cells": [
  {
   "cell_type": "code",
   "execution_count": 2,
   "metadata": {},
   "outputs": [
    {
     "name": "stdout",
     "output_type": "stream",
     "text": [
      " * Serving Flask app \"__main__\" (lazy loading)\n",
      " * Environment: production\n",
      "   WARNING: This is a development server. Do not use it in a production deployment.\n",
      "   Use a production WSGI server instead.\n",
      " * Debug mode: off\n"
     ]
    },
    {
     "name": "stderr",
     "output_type": "stream",
     "text": [
      " * Running on http://127.0.0.1:5000/ (Press CTRL+C to quit)\n",
      "127.0.0.1 - - [20/Sep/2021 19:01:08] \"\u001b[37mGET / HTTP/1.1\u001b[0m\" 200 -\n",
      "127.0.0.1 - - [20/Sep/2021 19:01:26] \"\u001b[37mGET /lsvc/predict/industry/java%20developer HTTP/1.1\u001b[0m\" 200 -\n"
     ]
    }
   ],
   "source": [
    "from flask import Flask,render_template\n",
    "import requests\n",
    "from joblib import dump, load\n",
    "\n",
    "#Defining App !\n",
    "app = Flask(__name__)\n",
    "\n",
    "# First Endpoing >> our root page\n",
    "@app.route('/', methods=['GET'])\n",
    "def home():\n",
    "    return \"<h1>Job title Classification by industry</h1>\\\n",
    "    <p>This site is a prototype API for Multi-text Text Classification Task.</p>\\\n",
    "    <p>To get prediction for your job title please send Request to <b>http://127.0.0.1:5000/lsvc/predict/industry/Your Job Title Here</b>\"\n",
    "\n",
    "# Only one Endpoint to API supported: {GET}\n",
    "@app.route('/lsvc/predict/industry/<string:job_title>', methods=['GET'])\n",
    "def get_prediction(job_title):\n",
    "    model = load('model.joblib') #load our model\n",
    "    pred_industry = model.predict([job_title]) #make a prediction\n",
    "    return pred_industry[0], 200\n",
    " \n",
    "# Run this baby server !\n",
    "app.run()"
   ]
  },
  {
   "cell_type": "code",
   "execution_count": null,
   "metadata": {},
   "outputs": [],
   "source": []
  }
 ],
 "metadata": {
  "kernelspec": {
   "display_name": "Python 3",
   "language": "python",
   "name": "python3"
  },
  "language_info": {
   "codemirror_mode": {
    "name": "ipython",
    "version": 3
   },
   "file_extension": ".py",
   "mimetype": "text/x-python",
   "name": "python",
   "nbconvert_exporter": "python",
   "pygments_lexer": "ipython3",
   "version": "3.8.5"
  }
 },
 "nbformat": 4,
 "nbformat_minor": 4
}
