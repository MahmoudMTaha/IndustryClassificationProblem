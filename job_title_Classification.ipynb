{
 "cells": [
  {
   "cell_type": "markdown",
   "metadata": {},
   "source": [
    "### Mahmoud Mohamed Taha             \n",
    "### mahmoudtaha613@gmail.com"
   ]
  },
  {
   "cell_type": "markdown",
   "metadata": {},
   "source": [
    "# Import the libraries"
   ]
  },
  {
   "cell_type": "code",
   "execution_count": 1,
   "metadata": {},
   "outputs": [],
   "source": [
    "import numpy as np\n",
    "import pandas as pd\n",
    "import matplotlib.pyplot as plt\n",
    "import seaborn as sns; sns.set()\n",
    "import re\n",
    "import nltk\n",
    "from sklearn.model_selection import train_test_split\n",
    "from sklearn.feature_extraction.text import TfidfTransformer\n",
    "from sklearn.feature_extraction.text import CountVectorizer\n",
    "from imblearn.over_sampling import SMOTE\n",
    "#from sklearn.feature_extraction import text \n",
    "from imblearn.pipeline import Pipeline\n",
    "import warnings\n",
    "warnings.filterwarnings(\"ignore\")\n",
    "from sklearn.model_selection import GridSearchCV\n",
    "from sklearn.linear_model import SGDClassifier\n",
    "from sklearn.linear_model import LogisticRegression\n",
    "from sklearn.svm import LinearSVC\n",
    "from sklearn import metrics\n",
    "from sklearn.metrics import f1_score\n",
    "from sklearn.metrics import confusion_matrix\n",
    "from joblib import dump, load"
   ]
  },
  {
   "cell_type": "markdown",
   "metadata": {},
   "source": [
    "# 1) - Loading Data"
   ]
  },
  {
   "cell_type": "code",
   "execution_count": 2,
   "metadata": {},
   "outputs": [
    {
     "data": {
      "text/html": [
       "<div>\n",
       "<style scoped>\n",
       "    .dataframe tbody tr th:only-of-type {\n",
       "        vertical-align: middle;\n",
       "    }\n",
       "\n",
       "    .dataframe tbody tr th {\n",
       "        vertical-align: top;\n",
       "    }\n",
       "\n",
       "    .dataframe thead th {\n",
       "        text-align: right;\n",
       "    }\n",
       "</style>\n",
       "<table border=\"1\" class=\"dataframe\">\n",
       "  <thead>\n",
       "    <tr style=\"text-align: right;\">\n",
       "      <th></th>\n",
       "      <th>job title</th>\n",
       "      <th>industry</th>\n",
       "    </tr>\n",
       "  </thead>\n",
       "  <tbody>\n",
       "    <tr>\n",
       "      <th>0</th>\n",
       "      <td>technical support and helpdesk supervisor - co...</td>\n",
       "      <td>IT</td>\n",
       "    </tr>\n",
       "    <tr>\n",
       "      <th>1</th>\n",
       "      <td>senior technical support engineer</td>\n",
       "      <td>IT</td>\n",
       "    </tr>\n",
       "    <tr>\n",
       "      <th>2</th>\n",
       "      <td>head of it services</td>\n",
       "      <td>IT</td>\n",
       "    </tr>\n",
       "    <tr>\n",
       "      <th>3</th>\n",
       "      <td>js front end engineer</td>\n",
       "      <td>IT</td>\n",
       "    </tr>\n",
       "    <tr>\n",
       "      <th>4</th>\n",
       "      <td>network and telephony controller</td>\n",
       "      <td>IT</td>\n",
       "    </tr>\n",
       "  </tbody>\n",
       "</table>\n",
       "</div>"
      ],
      "text/plain": [
       "                                           job title industry\n",
       "0  technical support and helpdesk supervisor - co...       IT\n",
       "1                  senior technical support engineer       IT\n",
       "2                                head of it services       IT\n",
       "3                              js front end engineer       IT\n",
       "4                   network and telephony controller       IT"
      ]
     },
     "execution_count": 2,
     "metadata": {},
     "output_type": "execute_result"
    }
   ],
   "source": [
    "df = pd.read_csv('../02_Documents/Job titles and industries.csv')\n",
    "df.head()"
   ]
  },
  {
   "cell_type": "markdown",
   "metadata": {},
   "source": [
    "# 2) - Data Exploration"
   ]
  },
  {
   "cell_type": "code",
   "execution_count": 3,
   "metadata": {},
   "outputs": [
    {
     "name": "stdout",
     "output_type": "stream",
     "text": [
      "Shape : (8586, 2)\n",
      "Nulls : 0\n",
      "Duplicates : 4618\n",
      "Targets: ['IT' 'Marketing' 'Education' 'Accountancy']\n",
      "IT             4746\n",
      "Marketing      2031\n",
      "Education      1435\n",
      "Accountancy     374\n",
      "Name: industry, dtype: int64\n"
     ]
    },
    {
     "data": {
      "image/png": "[encoded data removed]",
      "text/plain": [
       "<Figure size 432x288 with 1 Axes>"
      ]
     },
     "metadata": {},
     "output_type": "display_data"
    }
   ],
   "source": [
    "print('Shape :',df.shape)\n",
    "print('Nulls :' , df.isnull().sum().sum())\n",
    "print('Duplicates :',df.duplicated().sum())\n",
    "print('Targets:', df.industry.unique())\n",
    "print(df.industry.value_counts())\n",
    "ax = sns.countplot(df.industry) \n"
   ]
  },
  {
   "cell_type": "markdown",
   "metadata": {},
   "source": [
    "## duplication\n",
    "there is lots of duplicate in the data instances (job titles) about 4618 record\n",
    "<br>\n",
    "since our data doesn't have ID so we will treat this duplicates as if they were comeing from different resourcesand adding more confidence to our model\n",
    "<br>\n",
    "so will not drop them"
   ]
  },
  {
   "cell_type": "code",
   "execution_count": 4,
   "metadata": {},
   "outputs": [
    {
     "data": {
      "text/html": [
       "<div>\n",
       "<style scoped>\n",
       "    .dataframe tbody tr th:only-of-type {\n",
       "        vertical-align: middle;\n",
       "    }\n",
       "\n",
       "    .dataframe tbody tr th {\n",
       "        vertical-align: top;\n",
       "    }\n",
       "\n",
       "    .dataframe thead th {\n",
       "        text-align: right;\n",
       "    }\n",
       "</style>\n",
       "<table border=\"1\" class=\"dataframe\">\n",
       "  <thead>\n",
       "    <tr style=\"text-align: right;\">\n",
       "      <th></th>\n",
       "      <th>job title</th>\n",
       "      <th>industry</th>\n",
       "    </tr>\n",
       "  </thead>\n",
       "  <tbody>\n",
       "    <tr>\n",
       "      <th>7</th>\n",
       "      <td>devops engineers x 3 - global brand</td>\n",
       "      <td>IT</td>\n",
       "    </tr>\n",
       "    <tr>\n",
       "      <th>10</th>\n",
       "      <td>devops engineers x 3 - global brand</td>\n",
       "      <td>IT</td>\n",
       "    </tr>\n",
       "    <tr>\n",
       "      <th>11</th>\n",
       "      <td>devops engineers x 3 - global brand</td>\n",
       "      <td>IT</td>\n",
       "    </tr>\n",
       "    <tr>\n",
       "      <th>26</th>\n",
       "      <td>business analyst</td>\n",
       "      <td>IT</td>\n",
       "    </tr>\n",
       "    <tr>\n",
       "      <th>36</th>\n",
       "      <td>.net developer</td>\n",
       "      <td>IT</td>\n",
       "    </tr>\n",
       "    <tr>\n",
       "      <th>...</th>\n",
       "      <td>...</td>\n",
       "      <td>...</td>\n",
       "    </tr>\n",
       "    <tr>\n",
       "      <th>8572</th>\n",
       "      <td>telesales agent</td>\n",
       "      <td>Marketing</td>\n",
       "    </tr>\n",
       "    <tr>\n",
       "      <th>8575</th>\n",
       "      <td>sales manager</td>\n",
       "      <td>Marketing</td>\n",
       "    </tr>\n",
       "    <tr>\n",
       "      <th>8576</th>\n",
       "      <td>marketing &amp; social media specialist</td>\n",
       "      <td>Marketing</td>\n",
       "    </tr>\n",
       "    <tr>\n",
       "      <th>8580</th>\n",
       "      <td>marketing specialist</td>\n",
       "      <td>Marketing</td>\n",
       "    </tr>\n",
       "    <tr>\n",
       "      <th>8582</th>\n",
       "      <td>content creator</td>\n",
       "      <td>Marketing</td>\n",
       "    </tr>\n",
       "  </tbody>\n",
       "</table>\n",
       "<p>4618 rows × 2 columns</p>\n",
       "</div>"
      ],
      "text/plain": [
       "                                job title   industry\n",
       "7     devops engineers x 3 - global brand         IT\n",
       "10    devops engineers x 3 - global brand         IT\n",
       "11    devops engineers x 3 - global brand         IT\n",
       "26                       business analyst         IT\n",
       "36                         .net developer         IT\n",
       "...                                   ...        ...\n",
       "8572                      telesales agent  Marketing\n",
       "8575                        sales manager  Marketing\n",
       "8576  marketing & social media specialist  Marketing\n",
       "8580                 marketing specialist  Marketing\n",
       "8582                      content creator  Marketing\n",
       "\n",
       "[4618 rows x 2 columns]"
      ]
     },
     "execution_count": 4,
     "metadata": {},
     "output_type": "execute_result"
    }
   ],
   "source": [
    "#check duplications\n",
    "df[df.duplicated()]"
   ]
  },
  {
   "cell_type": "markdown",
   "metadata": {},
   "source": [
    "# 3) - Cleaning the data and preparing for model."
   ]
  },
  {
   "cell_type": "code",
   "execution_count": 5,
   "metadata": {},
   "outputs": [
    {
     "data": {
      "text/plain": [
       "4985                           junior conference producer\n",
       "8377                                     printer operator\n",
       "7562       [teaching] impact india- english teaching gt/s\n",
       "7331           payment specialist / payment administrator\n",
       "118                      product manager - sports trading\n",
       "810             senior solutions engineer, infrastructure\n",
       "1308                             full stack php developer\n",
       "4891                       seo senior marketing executive\n",
       "6279    principal early childhood educator braehead pr...\n",
       "975                                  lead devops engineer\n",
       "Name: job title, dtype: object"
      ]
     },
     "execution_count": 5,
     "metadata": {},
     "output_type": "execute_result"
    }
   ],
   "source": [
    "#let's take a look to see if our data needs to be cleaned\n",
    "df['job title'].sample(10)"
   ]
  },
  {
   "cell_type": "markdown",
   "metadata": {},
   "source": [
    "## Punctuation Removal\n",
    "our data have alots of Punctuations in it and some of them have meaning like:\n",
    "<br>\n",
    "++ # having meaning if they coming after letter c as they are programming languages c++ and c# and . to in .net\n",
    "<br>\n",
    "so before removing Punctuations we handled the ++ and # and . problem by replace them by meaningful words\n",
    "<br>\n",
    " C# >> csharp<br>\n",
    " C++ >> Cplusplus<br>\n",
    " .net >>dotnet"
   ]
  },
  {
   "cell_type": "code",
   "execution_count": 6,
   "metadata": {},
   "outputs": [
    {
     "data": {
      "text/html": [
       "<div>\n",
       "<style scoped>\n",
       "    .dataframe tbody tr th:only-of-type {\n",
       "        vertical-align: middle;\n",
       "    }\n",
       "\n",
       "    .dataframe tbody tr th {\n",
       "        vertical-align: top;\n",
       "    }\n",
       "\n",
       "    .dataframe thead th {\n",
       "        text-align: right;\n",
       "    }\n",
       "</style>\n",
       "<table border=\"1\" class=\"dataframe\">\n",
       "  <thead>\n",
       "    <tr style=\"text-align: right;\">\n",
       "      <th></th>\n",
       "      <th>job title</th>\n",
       "      <th>industry</th>\n",
       "    </tr>\n",
       "  </thead>\n",
       "  <tbody>\n",
       "    <tr>\n",
       "      <th>0</th>\n",
       "      <td>technical support and helpdesk supervisor - co...</td>\n",
       "      <td>IT</td>\n",
       "    </tr>\n",
       "    <tr>\n",
       "      <th>6</th>\n",
       "      <td>devops engineers x 3 - global brand</td>\n",
       "      <td>IT</td>\n",
       "    </tr>\n",
       "    <tr>\n",
       "      <th>9</th>\n",
       "      <td>php web developer £45,000 based in london</td>\n",
       "      <td>IT</td>\n",
       "    </tr>\n",
       "    <tr>\n",
       "      <th>12</th>\n",
       "      <td>solution / technical architect - ethical brand</td>\n",
       "      <td>IT</td>\n",
       "    </tr>\n",
       "    <tr>\n",
       "      <th>13</th>\n",
       "      <td>lead developer - ethical brand</td>\n",
       "      <td>IT</td>\n",
       "    </tr>\n",
       "    <tr>\n",
       "      <th>...</th>\n",
       "      <td>...</td>\n",
       "      <td>...</td>\n",
       "    </tr>\n",
       "    <tr>\n",
       "      <th>8573</th>\n",
       "      <td>business development specialist (part-time)</td>\n",
       "      <td>Marketing</td>\n",
       "    </tr>\n",
       "    <tr>\n",
       "      <th>8574</th>\n",
       "      <td>sales account manager (part-time)</td>\n",
       "      <td>Marketing</td>\n",
       "    </tr>\n",
       "    <tr>\n",
       "      <th>8583</th>\n",
       "      <td>sales &amp; marketing manager</td>\n",
       "      <td>Marketing</td>\n",
       "    </tr>\n",
       "    <tr>\n",
       "      <th>8584</th>\n",
       "      <td>marketing &amp; digital marketing consultant</td>\n",
       "      <td>Marketing</td>\n",
       "    </tr>\n",
       "    <tr>\n",
       "      <th>8585</th>\n",
       "      <td>creative copywriter (arabic/english)</td>\n",
       "      <td>Marketing</td>\n",
       "    </tr>\n",
       "  </tbody>\n",
       "</table>\n",
       "<p>1849 rows × 2 columns</p>\n",
       "</div>"
      ],
      "text/plain": [
       "                                              job title   industry\n",
       "0     technical support and helpdesk supervisor - co...         IT\n",
       "6                   devops engineers x 3 - global brand         IT\n",
       "9             php web developer £45,000 based in london         IT\n",
       "12       solution / technical architect - ethical brand         IT\n",
       "13                       lead developer - ethical brand         IT\n",
       "...                                                 ...        ...\n",
       "8573        business development specialist (part-time)  Marketing\n",
       "8574                  sales account manager (part-time)  Marketing\n",
       "8583                          sales & marketing manager  Marketing\n",
       "8584           marketing & digital marketing consultant  Marketing\n",
       "8585               creative copywriter (arabic/english)  Marketing\n",
       "\n",
       "[1849 rows x 2 columns]"
      ]
     },
     "execution_count": 6,
     "metadata": {},
     "output_type": "execute_result"
    }
   ],
   "source": [
    "#get rows containing Punctuations\n",
    "df['job title']= df['job title'].apply(lambda x: x.lower()) #Lowering the text\n",
    "df[df['job title'].str.contains('[^\\w\\s]+')].drop_duplicates()"
   ]
  },
  {
   "cell_type": "code",
   "execution_count": 7,
   "metadata": {},
   "outputs": [
    {
     "data": {
      "text/html": [
       "<div>\n",
       "<style scoped>\n",
       "    .dataframe tbody tr th:only-of-type {\n",
       "        vertical-align: middle;\n",
       "    }\n",
       "\n",
       "    .dataframe tbody tr th {\n",
       "        vertical-align: top;\n",
       "    }\n",
       "\n",
       "    .dataframe thead th {\n",
       "        text-align: right;\n",
       "    }\n",
       "</style>\n",
       "<table border=\"1\" class=\"dataframe\">\n",
       "  <thead>\n",
       "    <tr style=\"text-align: right;\">\n",
       "      <th></th>\n",
       "      <th>job title</th>\n",
       "      <th>industry</th>\n",
       "    </tr>\n",
       "  </thead>\n",
       "  <tbody>\n",
       "    <tr>\n",
       "      <th>15</th>\n",
       "      <td>vb .net web developer, milton keynes, £45k</td>\n",
       "      <td>IT</td>\n",
       "    </tr>\n",
       "    <tr>\n",
       "      <th>20</th>\n",
       "      <td>c# software developer, waltham cross, £55k</td>\n",
       "      <td>IT</td>\n",
       "    </tr>\n",
       "    <tr>\n",
       "      <th>33</th>\n",
       "      <td>.net developer</td>\n",
       "      <td>IT</td>\n",
       "    </tr>\n",
       "    <tr>\n",
       "      <th>98</th>\n",
       "      <td>software developer - c# .net javascript</td>\n",
       "      <td>IT</td>\n",
       "    </tr>\n",
       "    <tr>\n",
       "      <th>114</th>\n",
       "      <td>senior .net developer</td>\n",
       "      <td>IT</td>\n",
       "    </tr>\n",
       "    <tr>\n",
       "      <th>...</th>\n",
       "      <td>...</td>\n",
       "      <td>...</td>\n",
       "    </tr>\n",
       "    <tr>\n",
       "      <th>5938</th>\n",
       "      <td>graduate software engineer - c++ computer vision</td>\n",
       "      <td>IT</td>\n",
       "    </tr>\n",
       "    <tr>\n",
       "      <th>5943</th>\n",
       "      <td>graduate software engineer - java/c++/c#</td>\n",
       "      <td>IT</td>\n",
       "    </tr>\n",
       "    <tr>\n",
       "      <th>5948</th>\n",
       "      <td>firmware engineer - c/c++</td>\n",
       "      <td>IT</td>\n",
       "    </tr>\n",
       "    <tr>\n",
       "      <th>5975</th>\n",
       "      <td>software developer - .net, c#</td>\n",
       "      <td>IT</td>\n",
       "    </tr>\n",
       "    <tr>\n",
       "      <th>5980</th>\n",
       "      <td>software engineer c, c++, oo</td>\n",
       "      <td>IT</td>\n",
       "    </tr>\n",
       "  </tbody>\n",
       "</table>\n",
       "<p>117 rows × 2 columns</p>\n",
       "</div>"
      ],
      "text/plain": [
       "                                             job title industry\n",
       "15          vb .net web developer, milton keynes, £45k       IT\n",
       "20          c# software developer, waltham cross, £55k       IT\n",
       "33                                      .net developer       IT\n",
       "98             software developer - c# .net javascript       IT\n",
       "114                              senior .net developer       IT\n",
       "...                                                ...      ...\n",
       "5938  graduate software engineer - c++ computer vision       IT\n",
       "5943          graduate software engineer - java/c++/c#       IT\n",
       "5948                         firmware engineer - c/c++       IT\n",
       "5975                     software developer - .net, c#       IT\n",
       "5980                      software engineer c, c++, oo       IT\n",
       "\n",
       "[117 rows x 2 columns]"
      ]
     },
     "execution_count": 7,
     "metadata": {},
     "output_type": "execute_result"
    }
   ],
   "source": [
    "df[df['job title'].str.contains('(c\\#|c\\+\\+|\\.net)+')].drop_duplicates()"
   ]
  },
  {
   "cell_type": "code",
   "execution_count": 8,
   "metadata": {},
   "outputs": [],
   "source": [
    "df['job title'] = df['job title'].str.replace(\"c\\#\",\"csharp\")\n",
    "df['job title'] = df['job title'].str.replace(\"c\\+\\+\",\"cplusplus\")\n",
    "df['job title'] = df['job title'].str.replace(\"\\.net\",\"dotnet\")\n",
    "assert df['job title'].str.contains('(c\\#|c\\+\\+|\\.net)+').any() == False #making sure that we replaced .net c# and c++"
   ]
  },
  {
   "cell_type": "markdown",
   "metadata": {},
   "source": [
    "## Salary Removal\n",
    "Some of our data have salary written in it so we removed that salary form all rows as it isn't job title related information"
   ]
  },
  {
   "cell_type": "code",
   "execution_count": 9,
   "metadata": {},
   "outputs": [
    {
     "name": "stdout",
     "output_type": "stream",
     "text": [
      "Empty DataFrame\n",
      "Columns: [job title, industry]\n",
      "Index: []\n"
     ]
    }
   ],
   "source": [
    "\n",
    "df['job title'] = df['job title'].str.replace('[^\\w\\s]|£|\\dk|\\d',' ')\n",
    "df['job title'] = df['job title'].str.replace('(\\sk\\s)',' ')\n",
    "print(df[df['job title'].str.contains('(\\sk\\s)')])\n",
    "assert df['job title'].str.contains('[^\\w\\s]|£|\\d').any() == False  #making sure that removed salary\n",
    "assert df['job title'].str.contains('(\\sk\\s)').any() == False  #making sure removed k that came after salary 40,00k"
   ]
  },
  {
   "cell_type": "code",
   "execution_count": 10,
   "metadata": {},
   "outputs": [
    {
     "data": {
      "text/plain": [
       "3154                                        product owner\n",
       "320     informatica developer   migration  dwh  oracle...\n",
       "1401    enterprise mobility   security   office     en...\n",
       "7085                                    chemistry teacher\n",
       "5363    junior researcher   qualitative   quantitative...\n",
       "7552                                       french teacher\n",
       "3075                               product innovation sme\n",
       "6456        primary and secondary teachers   saudi arabia\n",
       "4980                    paid search account manager   ppc\n",
       "3259                         information security manager\n",
       "Name: job title, dtype: object"
      ]
     },
     "execution_count": 10,
     "metadata": {},
     "output_type": "execute_result"
    }
   ],
   "source": [
    "df['job title'].sample(10)"
   ]
  },
  {
   "cell_type": "markdown",
   "metadata": {},
   "source": [
    "## Tokenization\n",
    "In this step, the text is split into words"
   ]
  },
  {
   "cell_type": "code",
   "execution_count": 11,
   "metadata": {},
   "outputs": [],
   "source": [
    "def tokenization(text):\n",
    "    tokens = re.split('\\W\\s*',text)\n",
    "    return tokens\n",
    "\n",
    "#applying function to the column\n",
    "df['job title']= df['job title'].apply(lambda x: tokenization(x))"
   ]
  },
  {
   "cell_type": "markdown",
   "metadata": {},
   "source": [
    "## Stop word removal\n",
    "I have used NLTK stop words list as these words don't add any value to our test\n",
    "<br>\n",
    "in addition to nltk stopwords i have add some additional words that i have spoted during exploring our data like :\n",
    "<br>\n",
    "per day, up to ,must be ,per hr,months,salary , doe,month ,part time,trainee,internship,year ,monthes,part-time\n",
    "<br>\n",
    "and i have also spoted that there are some records have UK cites writen in the job title and that not related to specific job\n",
    "<br>\n",
    "UK cites data source : https://simplemaps.com/data/gb-cities\n",
    "<br>\n",
    "so i have updated stopwords array and used it to remove unwanted words from our data "
   ]
  },
  {
   "cell_type": "code",
   "execution_count": 12,
   "metadata": {},
   "outputs": [
    {
     "name": "stderr",
     "output_type": "stream",
     "text": [
      "[nltk_data] Downloading package stopwords to\n",
      "[nltk_data]     C:\\Users\\M-Taha\\AppData\\Roaming\\nltk_data...\n",
      "[nltk_data]   Package stopwords is already up-to-date!\n"
     ]
    }
   ],
   "source": [
    "nltk.download('stopwords') #make sure we have latest version from stopwords \n",
    "#get all cities names from external data source \n",
    "gb = pd.read_csv('../02_Documents/gb.csv')\n",
    "city = gb.city.apply(lambda x: x.lower()).tolist() #get the city column from data set\n",
    "stopwords = nltk.corpus.stopwords.words('english')\n",
    "unnecessary_words = ['per',\n",
    "                     'up',\n",
    "                     'hr',\n",
    "                     'months',\n",
    "                     'salary',\n",
    "                     'time',\n",
    "                     'trainee',\n",
    "                     'internship',\n",
    "                     'year',\n",
    "                     'part',\n",
    "                     'day',\n",
    "                     'month',\n",
    "                     'head',\n",
    "                     'required',\n",
    "]\n",
    "stopwords = stopwords + city + unnecessary_words"
   ]
  },
  {
   "cell_type": "code",
   "execution_count": 13,
   "metadata": {},
   "outputs": [],
   "source": [
    "def remove_stopwords(text):\n",
    "    output= [i for i in text if i not in stopwords]\n",
    "    return output\n",
    "\n",
    "df['job title']= df['job title'].apply(lambda x:remove_stopwords(x)) #replace none job related words with space\n"
   ]
  },
  {
   "cell_type": "markdown",
   "metadata": {},
   "source": [
    "## Lemmatization: \n",
    "i have tried to use Lemmatization but our data have alots of abbreviations like it, js,bi \n",
    "so i didn't use it to save this abbreviations"
   ]
  },
  {
   "cell_type": "code",
   "execution_count": 14,
   "metadata": {},
   "outputs": [],
   "source": [
    "# from nltk.stem import WordNetLemmatizer\n",
    "# #defining the object for Lemmatization\n",
    "# wordnet_lemmatizer = WordNetLemmatizer()\n",
    "# def lemmatizer(text):\n",
    "#     lemm_text = [wordnet_lemmatizer.lemmatize(word) for word in text]\n",
    "#     return lemm_text\n",
    "# df['job title']=df['job title'].apply(lambda x:lemmatizer(x))"
   ]
  },
  {
   "cell_type": "code",
   "execution_count": 15,
   "metadata": {},
   "outputs": [
    {
     "data": {
      "text/plain": [
       "0       technical support helpdesk supervisor county b...\n",
       "1                       senior technical support engineer\n",
       "2                                                services\n",
       "3                                   js front end engineer\n",
       "4                            network telephony controller\n",
       "                              ...                        \n",
       "8581                                     data entry clerk\n",
       "8582                                      content creator\n",
       "8583                              sales marketing manager\n",
       "8584               marketing digital marketing consultant\n",
       "8585                  creative copywriter arabic english \n",
       "Name: job title, Length: 8586, dtype: object"
      ]
     },
     "execution_count": 15,
     "metadata": {},
     "output_type": "execute_result"
    }
   ],
   "source": [
    "#join our data again to use it with CountVectorizer and TfidfTransformer \n",
    "df['job title'] = [\" \".join(review) for review in df['job title'].values] \n",
    "df['job title']"
   ]
  },
  {
   "cell_type": "markdown",
   "metadata": {},
   "source": [
    "# splitting the data\n",
    "i have splited our data into 20 % validation set and 80 % training and test sets \n",
    "<br>\n",
    "i have stratifed our target data to save data distribution "
   ]
  },
  {
   "cell_type": "code",
   "execution_count": 16,
   "metadata": {},
   "outputs": [],
   "source": [
    "X_train, X_valid, y_train, y_valid = train_test_split(df['job title'], df.industry , test_size = 0.2, random_state = 0,stratify = df.industry)"
   ]
  },
  {
   "cell_type": "markdown",
   "metadata": {},
   "source": [
    "# Dealing with Data Imbalance\n",
    "i have used SMOTEN package to balance the dataset a little by oversampling {'Accountancy'}\n",
    "i have added the smote step in model pipeline\n",
    "and also added sample weights to the classifier when training to further solve this issue of imbalance.\n"
   ]
  },
  {
   "cell_type": "markdown",
   "metadata": {},
   "source": [
    "# 4) Model Training\n",
    "for the training phase i have created 3 pipelines with three models SGDClassifier, LinearSVC and LogisticRegression\n",
    "<br>\n",
    "each pipeline have four steps CountVectorizer, TfidfTransformer, SMOTE and the model\n",
    "<br>\n",
    "i have used GridSearchCV to get insights about each model performance\n"
   ]
  },
  {
   "cell_type": "code",
   "execution_count": 17,
   "metadata": {},
   "outputs": [
    {
     "name": "stdout",
     "output_type": "stream",
     "text": [
      "Fitting 5 folds for each of 3 candidates, totalling 15 fits\n",
      "Fitting 5 folds for each of 3 candidates, totalling 15 fits\n",
      "Fitting 5 folds for each of 3 candidates, totalling 15 fits\n",
      "{'sgd': 0.9284138990246733, 'lsvc': 0.9288448063517094, 'logr': 0.9250110504432406}\n"
     ]
    }
   ],
   "source": [
    "models = {'sgd':SGDClassifier(class_weight = 'balanced'),'lsvc' : LinearSVC(class_weight = 'balanced'),\n",
    "          'logr' : LogisticRegression(class_weight = 'balanced', max_iter = 200)}\n",
    "scores = {}\n",
    "parameters = {\n",
    "    'vect__max_df': (0.5, 0.75, 1.0),\n",
    "}\n",
    "for key,model in models.items():\n",
    "    pipeline = Pipeline([\n",
    "    ('vect', CountVectorizer()),\n",
    "    ('tfidf', TfidfTransformer()),\n",
    "    ('smote',SMOTE(sampling_strategy={'Accountancy':1000})),\n",
    "    ('clf', model),\n",
    "    ])\n",
    "    grid_search = GridSearchCV(pipeline,parameters, n_jobs=-1, verbose=1,scoring  = 'f1_weighted')\n",
    "    grid_search.fit(X_train, y_train)\n",
    "    scores[key] = grid_search.best_score_\n",
    "print(scores)"
   ]
  },
  {
   "cell_type": "code",
   "execution_count": 18,
   "metadata": {},
   "outputs": [
    {
     "data": {
      "text/plain": [
       "[(0.9, 0.96)]"
      ]
     },
     "execution_count": 18,
     "metadata": {},
     "output_type": "execute_result"
    },
    {
     "data": {
      "image/png": "[encoded data removed]",
      "text/plain": [
       "<Figure size 432x288 with 1 Axes>"
      ]
     },
     "metadata": {},
     "output_type": "display_data"
    }
   ],
   "source": [
    "ax = sns.barplot(list(scores.values()),list(scores.keys()),orient = 'h') \n",
    "ax.set(xlim=(.9, .96))\n"
   ]
  },
  {
   "cell_type": "markdown",
   "metadata": {},
   "source": [
    "# Model Tuning\n",
    "i have chosen LinearSVC as it have high score with sgd , fast  and it's not needing alot of hyper-parameter tuning\n",
    "<br>\n",
    "and as often text data are linearly separable"
   ]
  },
  {
   "cell_type": "code",
   "execution_count": 19,
   "metadata": {},
   "outputs": [
    {
     "name": "stdout",
     "output_type": "stream",
     "text": [
      "Performing grid search...\n",
      "Fitting 5 folds for each of 288 candidates, totalling 1440 fits\n",
      "\n",
      "Best score: 0.938\n"
     ]
    }
   ],
   "source": [
    "parameters = {\n",
    "    'vect__max_df': (0.5, 0.75, 1.0),\n",
    "    'vect__max_features': (None, 5000, 10000, 50000),\n",
    "    'vect__ngram_range': ((1, 1), (1, 2)),  # unigrams or bigrams\n",
    "    'tfidf__use_idf': (True, False),\n",
    "    'tfidf__norm': ('l1', 'l2'),\n",
    "    'clf__intercept_scaling' : (.9,.8,.7),\n",
    "}\n",
    "\n",
    "pipeline = Pipeline([\n",
    "    ('vect', CountVectorizer()),\n",
    "    ('tfidf', TfidfTransformer()),\n",
    "    ('smote',SMOTE(sampling_strategy = {'Accountancy':1000})),\n",
    "    ('clf', LinearSVC(class_weight = 'balanced')),\n",
    "])\n",
    "\n",
    "\n",
    "grid_search = GridSearchCV(pipeline, parameters, n_jobs=-1, verbose=1,scoring  = 'f1_weighted')\n",
    "print(\"Performing grid search...\")\n",
    "grid_search.fit(X_train, y_train)\n",
    "print()\n",
    "print(\"Best score: %0.3f\" % grid_search.best_score_)"
   ]
  },
  {
   "cell_type": "code",
   "execution_count": 20,
   "metadata": {},
   "outputs": [],
   "source": [
    "labels = grid_search.predict(X_valid) #predict valiation data"
   ]
  },
  {
   "cell_type": "code",
   "execution_count": 21,
   "metadata": {},
   "outputs": [
    {
     "data": {
      "image/png": "[encoded data removed]",
      "text/plain": [
       "<Figure size 432x288 with 1 Axes>"
      ]
     },
     "metadata": {},
     "output_type": "display_data"
    }
   ],
   "source": [
    "mat = confusion_matrix(y_valid, labels)\n",
    "sns.heatmap(mat.T, square=True, annot=True, fmt='d', cbar=False)\n",
    "plt.xlabel('true label')\n",
    "plt.ylabel('predicted label');"
   ]
  },
  {
   "cell_type": "code",
   "execution_count": 22,
   "metadata": {},
   "outputs": [
    {
     "name": "stdout",
     "output_type": "stream",
     "text": [
      "              precision    recall  f1-score   support\n",
      "\n",
      "          IT       0.94      0.91      0.93        75\n",
      "   Marketing       0.93      0.91      0.92       287\n",
      "   Education       0.97      0.97      0.97       950\n",
      " Accountancy       0.91      0.92      0.92       406\n",
      "\n",
      "    accuracy                           0.95      1718\n",
      "   macro avg       0.94      0.93      0.93      1718\n",
      "weighted avg       0.95      0.95      0.95      1718\n",
      "\n"
     ]
    }
   ],
   "source": [
    "print(metrics.classification_report(y_valid, labels, target_names=df['industry'].unique()))"
   ]
  },
  {
   "cell_type": "markdown",
   "metadata": {},
   "source": [
    "## Model Evaluation\n",
    "i have decided to use f1 _ weighted as evaluation metric\n",
    "<br>\n",
    "as it takes into account how the data is distributed\n",
    "<br>\n",
    "useful when you have data with imbalance classes as in our case"
   ]
  },
  {
   "cell_type": "code",
   "execution_count": 23,
   "metadata": {},
   "outputs": [
    {
     "name": "stdout",
     "output_type": "stream",
     "text": [
      "f1_score 0.9458407496641162\n"
     ]
    }
   ],
   "source": [
    "print('f1_score %s' % f1_score(y_valid, labels,average = 'weighted'))"
   ]
  },
  {
   "cell_type": "code",
   "execution_count": 24,
   "metadata": {},
   "outputs": [
    {
     "data": {
      "text/plain": [
       "['model.joblib']"
      ]
     },
     "execution_count": 24,
     "metadata": {},
     "output_type": "execute_result"
    }
   ],
   "source": [
    "dump(grid_search, 'model.joblib')"
   ]
  }
 ],
 "metadata": {
  "kernelspec": {
   "display_name": "Python 3",
   "language": "python",
   "name": "python3"
  },
  "language_info": {
   "codemirror_mode": {
    "name": "ipython",
    "version": 3
   },
   "file_extension": ".py",
   "mimetype": "text/x-python",
   "name": "python",
   "nbconvert_exporter": "python",
   "pygments_lexer": "ipython3",
   "version": "3.8.5"
  }
 },
 "nbformat": 4,
 "nbformat_minor": 4
}
